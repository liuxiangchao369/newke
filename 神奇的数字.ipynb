{
 "cells": [
  {
   "cell_type": "code",
   "execution_count": 66,
   "metadata": {},
   "outputs": [],
   "source": [
    "#\n",
    "#\n",
    "# @param number string字符串\n",
    "# @return string字符串\n",
    "#\n",
    "import copy\n",
    "\n",
    "\n",
    "class Solution:\n",
    "    def change(self, number):\n",
    "        # write code here\n",
    "        string = []\n",
    "        for item in number:\n",
    "            string.append(item)\n",
    "\n",
    "        ans = copy.deepcopy(string)\n",
    "        n = len(string)\n",
    "        ptr = 0\n",
    "        i=0\n",
    "        for i in range(n):\n",
    "#             print(\"*********tmp=\",string[i])\n",
    "#             print(\"ans=\",ans)\n",
    "            if i>=(n+ptr):\n",
    "                break\n",
    "            tmp=string[i]\n",
    "            \n",
    "            if int(tmp) % 2 == 0:\n",
    "                for ptr in range(ptr-1,-n,-1):\n",
    "                    if i>=(n+ptr):\n",
    "                        break\n",
    "#                     print(\"ptr=\",ptr,\"tmp=\",tmp,\"i=\",i)\n",
    "                    if int(ans[ptr])%2==0:\n",
    "                        ans[i]=ans[ptr]\n",
    "                        ans[ptr]=tmp\n",
    "                        break\n",
    "        return ''.join(ans)"
   ]
  },
  {
   "cell_type": "code",
   "execution_count": 67,
   "metadata": {},
   "outputs": [],
   "source": [
    "number = \"12346\"\n",
    "number = \"1675283134\""
   ]
  },
  {
   "cell_type": "code",
   "execution_count": 68,
   "metadata": {
    "scrolled": true
   },
   "outputs": [
    {
     "data": {
      "text/plain": [
       "True"
      ]
     },
     "execution_count": 68,
     "metadata": {},
     "output_type": "execute_result"
    }
   ],
   "source": [
    "s=Solution()\n",
    "s.change(number)==\"1475823136\""
   ]
  },
  {
   "cell_type": "code",
   "execution_count": 46,
   "metadata": {},
   "outputs": [
    {
     "name": "stdout",
     "output_type": "stream",
     "text": [
      "ptr= -2 tmp= 6 type= 1\n",
      "ptr= -3 tmp= 6 type= 1\n",
      "ptr= -4 tmp= 6 type= 1\n",
      "ptr= -5 tmp= 6 type= 1\n"
     ]
    },
    {
     "data": {
      "text/plain": [
       "'1875263134'"
      ]
     },
     "execution_count": 46,
     "metadata": {},
     "output_type": "execute_result"
    }
   ],
   "source": [
    "s.change(number)"
   ]
  },
  {
   "cell_type": "code",
   "execution_count": 62,
   "metadata": {},
   "outputs": [
    {
     "data": {
      "text/plain": [
       "True"
      ]
     },
     "execution_count": 62,
     "metadata": {},
     "output_type": "execute_result"
    }
   ],
   "source": [
    "2%2==0"
   ]
  },
  {
   "cell_type": "code",
   "execution_count": null,
   "metadata": {},
   "outputs": [],
   "source": []
  }
 ],
 "metadata": {
  "kernelspec": {
   "display_name": "Python 3",
   "language": "python",
   "name": "python3"
  },
  "language_info": {
   "codemirror_mode": {
    "name": "ipython",
    "version": 3
   },
   "file_extension": ".py",
   "mimetype": "text/x-python",
   "name": "python",
   "nbconvert_exporter": "python",
   "pygments_lexer": "ipython3",
   "version": "3.7.4"
  },
  "toc": {
   "base_numbering": 1,
   "nav_menu": {},
   "number_sections": true,
   "sideBar": true,
   "skip_h1_title": false,
   "title_cell": "Table of Contents",
   "title_sidebar": "Contents",
   "toc_cell": false,
   "toc_position": {},
   "toc_section_display": true,
   "toc_window_display": false
  }
 },
 "nbformat": 4,
 "nbformat_minor": 2
}
