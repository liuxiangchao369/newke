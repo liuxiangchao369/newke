{
 "cells": [
  {
   "cell_type": "code",
   "execution_count": 83,
   "metadata": {},
   "outputs": [],
   "source": [
    "#\n",
    "#\n",
    "# @param chessboard string字符串一维数组\n",
    "# @return string字符串\n",
    "#\n",
    "\n",
    "\n",
    "class Solution:\n",
    "    def checkBJ(self, chessboard, x, y):\n",
    "        m = len(chessboard)\n",
    "        n = len(chessboard[0])\n",
    "\n",
    "        if \"B\" in (chessboard[max(0, x-1)][y], chessboard[min(m-1, x+1)][y], chessboard[x][max(0, y-1)], chessboard[x][min(n-1, y+1)]):\n",
    "            return True\n",
    "        if \"J\" in (chessboard[max(0, x-1)][y], chessboard[min(m-1, x+1)][y], chessboard[x][max(0, y-1)], chessboard[x][min(n-1, y+1)]):\n",
    "            return True\n",
    "        return False\n",
    "\n",
    "    def checkC(self, chessboard, x, y):\n",
    "        m = len(chessboard)\n",
    "        n = len(chessboard[0])\n",
    "        win = False\n",
    "        # 同一行\n",
    "        if \"C\" in chessboard[x]:\n",
    "            index_C = chessboard[x].index(\"C\")\n",
    "            win = True\n",
    "            for i in range(min(index_C, y)+1, max(index_C, y)):\n",
    "                if(\".\" != chessboard[x][i]):\n",
    "                    win = False\n",
    "                    break\n",
    "            return win\n",
    "\n",
    "        # 同一列\n",
    "\n",
    "        # 向上\n",
    "        if x != 0:\n",
    "            for j in range(x):\n",
    "                if chessboard[j][y] == \".\":\n",
    "                    continue\n",
    "                if chessboard[j][y] == \"C\":\n",
    "                    return True\n",
    "                else:\n",
    "                    break\n",
    "        # 向下\n",
    "        if x != m-1:\n",
    "            for j in range(x+1, m):\n",
    "                if chessboard[j][y] == \".\":\n",
    "                    continue\n",
    "                if chessboard[j][y] == \"C\":\n",
    "                    return True\n",
    "                else:\n",
    "                    break\n",
    "            return False\n",
    "\n",
    "    def checkP(self, chessboard, x, y):\n",
    "        m = len(chessboard)\n",
    "        n = len(chessboard[0])\n",
    "        win = False\n",
    "        # 同一行\n",
    "        if \"P\" in chessboard[x]:\n",
    "            index_P = chessboard[x].index(\"P\")\n",
    "            win = True\n",
    "            dianzi = 0\n",
    "            for i in range(min(index_P, y)+1, max(index_P, y)):\n",
    "                if(\".\" == chessboard[x][i]):\n",
    "                    continue\n",
    "                else:\n",
    "                    dianzi += 1\n",
    "            if dianzi == 1:\n",
    "                return True\n",
    "\n",
    "        # 同一列\n",
    "        dianzi = 0\n",
    "        index_P = -1\n",
    "        # 找到P的下标\n",
    "        for j in range(m):\n",
    "            if chessboard[j][y] == \"P\":\n",
    "                index_P = j\n",
    "        if index_P == -1:  # 这一列没有P\n",
    "            return False\n",
    "        # 找到之后\n",
    "        l = min(index_P, x)\n",
    "        r = max(index_P, x)\n",
    "        for k in range(l+1, r):\n",
    "            if chessboard[k][y] != \".\":\n",
    "                dianzi += 1\n",
    "        if dianzi == 1:\n",
    "            return True\n",
    "\n",
    "        return False\n",
    "\n",
    "    def playchess(self, chessboard):\n",
    "        # write code here\n",
    "\n",
    "        m = len(chessboard)\n",
    "        n = len(chessboard[0])\n",
    "        print(\"m=\", m, \"n=\", n)\n",
    "        # 找到j\n",
    "        x = 0\n",
    "        y = 0\n",
    "        for i in range(0, m):\n",
    "\n",
    "            for j in range(n):\n",
    "\n",
    "                if \"j\" == chessboard[i][j]:\n",
    "                    x = i\n",
    "                    y = j\n",
    "                    break\n",
    "\n",
    "        # 判断附近四个格有没有J和B\n",
    "        print(\"x=\", x, \"y=\", y)\n",
    "        win_ = self.checkBJ(chessboard, x, y)\n",
    "\n",
    "        if win_:\n",
    "            return \"Happy\"\n",
    "\n",
    "        # 判断一条直线上有没有C\n",
    "        win_ = self.checkC(chessboard, x, y)\n",
    "\n",
    "        if win_:\n",
    "            return \"Happy\"\n",
    "\n",
    "        # 判断能不能被P达到\n",
    "        win_ = self.checkP(chessboard, x, y)\n",
    "\n",
    "        if win_:\n",
    "            return \"Happy\"\n",
    "        return \"Sad\""
   ]
  },
  {
   "cell_type": "code",
   "execution_count": 84,
   "metadata": {},
   "outputs": [],
   "source": [
    "#chessboard = [\"......\", \"..B...\", \"P.C.j.\", \"......\", \"..b...\", \" ...J..\"]\n",
    "#chessboard = [\"j.....\", \"......\", \"J.....\", \"......\", \"P.....\", \"......\"]\n",
    "chessboard=[\"C....j\", \"......\", \"......\", \"......\", \"......\", \".....J\"]"
   ]
  },
  {
   "cell_type": "code",
   "execution_count": 85,
   "metadata": {},
   "outputs": [],
   "source": [
    "s=Solution()"
   ]
  },
  {
   "cell_type": "code",
   "execution_count": 86,
   "metadata": {},
   "outputs": [
    {
     "name": "stdout",
     "output_type": "stream",
     "text": [
      "m= 6 n= 6\n",
      "x= 0 y= 5\n"
     ]
    },
    {
     "data": {
      "text/plain": [
       "'Happy'"
      ]
     },
     "execution_count": 86,
     "metadata": {},
     "output_type": "execute_result"
    }
   ],
   "source": [
    "s.playchess(chessboard)"
   ]
  },
  {
   "cell_type": "code",
   "execution_count": 55,
   "metadata": {},
   "outputs": [
    {
     "data": {
      "text/plain": [
       "False"
      ]
     },
     "execution_count": 55,
     "metadata": {},
     "output_type": "execute_result"
    }
   ],
   "source": [
    "s.checkC(chessboard,0,0)"
   ]
  },
  {
   "cell_type": "code",
   "execution_count": 56,
   "metadata": {},
   "outputs": [
    {
     "data": {
      "text/plain": [
       "False"
      ]
     },
     "execution_count": 56,
     "metadata": {},
     "output_type": "execute_result"
    }
   ],
   "source": [
    "s.checkP(chessboard,0,0)"
   ]
  },
  {
   "cell_type": "code",
   "execution_count": 59,
   "metadata": {},
   "outputs": [
    {
     "data": {
      "text/plain": [
       "False"
      ]
     },
     "execution_count": 59,
     "metadata": {},
     "output_type": "execute_result"
    }
   ],
   "source": [
    "s.checkBJ(chessboard,0,0)"
   ]
  },
  {
   "cell_type": "code",
   "execution_count": 74,
   "metadata": {},
   "outputs": [],
   "source": [
    "def checkP(chessboard, x, y):\n",
    "    m = len(chessboard)\n",
    "    n = len(chessboard[0])\n",
    "    # print(m,n)\n",
    "    win = False\n",
    "    # 同一行\n",
    "    if \"P\" in chessboard[x]:\n",
    "\n",
    "        index_P = chessboard[x].index(\"P\")\n",
    "        win = True\n",
    "        dianzi = 0\n",
    "        for i in range(min(index_P, y)+1, max(index_P, y)):\n",
    "            if(\".\" == chessboard[x][i]):\n",
    "                continue\n",
    "            else:\n",
    "                dianzi += 1\n",
    "        if dianzi == 1:\n",
    "            return True\n",
    "\n",
    "    # 同一列\n",
    "    dianzi = 0\n",
    "    index_P = -1\n",
    "    # 找到P的下标\n",
    "    for j in range(m):\n",
    "        if chessboard[j][y] == \"P\":\n",
    "            index_P = j\n",
    "    print(\"index_p=\",index_P)\n",
    "    if index_P == -1:  # 这一列没有P\n",
    "        return False\n",
    "    # 找到之后\n",
    "    l = min(index_P, x)\n",
    "    r = max(index_P, x)\n",
    "    print(l,r)\n",
    "    for k in range(l+1, r):\n",
    "        if chessboard[k][y] != \".\":\n",
    "            dianzi += 1\n",
    "    if dianzi == 1:\n",
    "        return True\n",
    "\n",
    "    return False"
   ]
  },
  {
   "cell_type": "code",
   "execution_count": 75,
   "metadata": {},
   "outputs": [
    {
     "name": "stdout",
     "output_type": "stream",
     "text": [
      "index_p= 4\n",
      "0 4\n"
     ]
    },
    {
     "data": {
      "text/plain": [
       "True"
      ]
     },
     "execution_count": 75,
     "metadata": {},
     "output_type": "execute_result"
    }
   ],
   "source": [
    "checkP(chessboard,0,0)"
   ]
  },
  {
   "cell_type": "code",
   "execution_count": null,
   "metadata": {},
   "outputs": [],
   "source": []
  }
 ],
 "metadata": {
  "kernelspec": {
   "display_name": "Python 3",
   "language": "python",
   "name": "python3"
  },
  "language_info": {
   "codemirror_mode": {
    "name": "ipython",
    "version": 3
   },
   "file_extension": ".py",
   "mimetype": "text/x-python",
   "name": "python",
   "nbconvert_exporter": "python",
   "pygments_lexer": "ipython3",
   "version": "3.7.4"
  },
  "toc": {
   "base_numbering": 1,
   "nav_menu": {},
   "number_sections": true,
   "sideBar": true,
   "skip_h1_title": false,
   "title_cell": "Table of Contents",
   "title_sidebar": "Contents",
   "toc_cell": false,
   "toc_position": {},
   "toc_section_display": true,
   "toc_window_display": false
  }
 },
 "nbformat": 4,
 "nbformat_minor": 2
}
