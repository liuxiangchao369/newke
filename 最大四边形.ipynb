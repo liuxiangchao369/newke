{
 "cells": [
  {
   "cell_type": "code",
   "execution_count": 18,
   "metadata": {},
   "outputs": [],
   "source": [
    "#\n",
    "# \n",
    "# @param a int整型一维数组 \n",
    "# @return double浮点型\n",
    "#\n",
    "import math\n",
    "class Solution:\n",
    "    def calc(a,b,c,d):\n",
    "        if a>=b+c+d:\n",
    "            return 0\n",
    "        if b>=a+c+d:\n",
    "            return 0\n",
    "        if c>=a+b+d:\n",
    "            return 0\n",
    "        if d>=a+b+c:\n",
    "            return 0\n",
    "        p=0.5*(a+b+c+d)\n",
    "        return math.sqrt((p-a)*(p-b)*(p-c)*(p-d))\n",
    "        \n",
    "    def solve(self , lists ):\n",
    "        # write code here\n",
    "        square=0\n",
    "        for a in range(len(lists)):\n",
    "            for b in range(a):\n",
    "                for c in range (b):\n",
    "                    for d in range (c):\n",
    "                        square=max(square,Solution.calc(lists[a],lists[b],lists[c],lists[d]))\n",
    "        \n",
    "        print(square)"
   ]
  },
  {
   "cell_type": "code",
   "execution_count": 19,
   "metadata": {},
   "outputs": [
    {
     "name": "stdout",
     "output_type": "stream",
     "text": [
      "10.954451150103322\n"
     ]
    }
   ],
   "source": [
    "a=[1,2,3,4,5]\n",
    "s=Solution()\n",
    "s.solve(a)"
   ]
  },
  {
   "cell_type": "code",
   "execution_count": null,
   "metadata": {},
   "outputs": [],
   "source": []
  }
 ],
 "metadata": {
  "kernelspec": {
   "display_name": "Python 3",
   "language": "python",
   "name": "python3"
  },
  "language_info": {
   "codemirror_mode": {
    "name": "ipython",
    "version": 3
   },
   "file_extension": ".py",
   "mimetype": "text/x-python",
   "name": "python",
   "nbconvert_exporter": "python",
   "pygments_lexer": "ipython3",
   "version": "3.7.4"
  },
  "toc": {
   "base_numbering": 1,
   "nav_menu": {},
   "number_sections": true,
   "sideBar": true,
   "skip_h1_title": false,
   "title_cell": "Table of Contents",
   "title_sidebar": "Contents",
   "toc_cell": false,
   "toc_position": {},
   "toc_section_display": true,
   "toc_window_display": false
  }
 },
 "nbformat": 4,
 "nbformat_minor": 2
}
