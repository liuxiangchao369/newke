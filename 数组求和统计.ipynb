{
 "cells": [
  {
   "cell_type": "code",
   "execution_count": 25,
   "metadata": {},
   "outputs": [],
   "source": [
    "#\n",
    "# 计算有多少对符合条件的数对\n",
    "# @param a int整型一维数组 数组a\n",
    "# @param b int整型一维数组 数组b\n",
    "# @return int整型\n",
    "#\n",
    "class Solution:\n",
    "    def Sum(a,i,j):\n",
    "        result=0\n",
    "        for k in range(i,j+1):\n",
    "            result+=a[k]\n",
    "        return result\n",
    "    \n",
    "    def countLR(self , a , b ):\n",
    "        # write code here\n",
    "        #计算出每种lr组合下ai求和的值放到一个新的数组c\n",
    "        n=len(a)\n",
    "        c = [[0 for i in range(n)] for i in range(n)]\n",
    "        for i in range(0,n):\n",
    "            for j in range(i,n):\n",
    "                c[i][j]=Solution.Sum(a=a,i=i,j=j)\n",
    "        \n",
    "        sums=0\n",
    "        for l in range(0,n):\n",
    "            for r in range(l,n):\n",
    "                if b[l]+b[r]==c[l][r]:\n",
    "                    sums+=1\n",
    "        print(sums)"
   ]
  },
  {
   "cell_type": "code",
   "execution_count": 26,
   "metadata": {},
   "outputs": [],
   "source": [
    "s=Solution()\n",
    "a=[0,0,1,1,1]\n",
    "b=[2,0,4,3,3]\n"
   ]
  },
  {
   "cell_type": "code",
   "execution_count": 27,
   "metadata": {},
   "outputs": [],
   "source": [
    "a=[1,2,3,4]\n",
    "b=[2,1,4,5]"
   ]
  },
  {
   "cell_type": "code",
   "execution_count": 28,
   "metadata": {},
   "outputs": [],
   "source": [
    "a=[52,3,65,78,0,69,87,79,44,54,85,8,6,35,25,84,66,77,12]\n",
    "b=[79,1367,942,757,864,1871,1379,5,640,1691,1585,1167,448,1819,2,573,260,918,724]"
   ]
  },
  {
   "cell_type": "code",
   "execution_count": 29,
   "metadata": {},
   "outputs": [
    {
     "name": "stdout",
     "output_type": "stream",
     "text": [
      "0\n"
     ]
    }
   ],
   "source": [
    "s.countLR(a,b)"
   ]
  },
  {
   "cell_type": "code",
   "execution_count": null,
   "metadata": {},
   "outputs": [],
   "source": []
  },
  {
   "cell_type": "code",
   "execution_count": null,
   "metadata": {},
   "outputs": [],
   "source": []
  }
 ],
 "metadata": {
  "kernelspec": {
   "display_name": "Python 3",
   "language": "python",
   "name": "python3"
  },
  "language_info": {
   "codemirror_mode": {
    "name": "ipython",
    "version": 3
   },
   "file_extension": ".py",
   "mimetype": "text/x-python",
   "name": "python",
   "nbconvert_exporter": "python",
   "pygments_lexer": "ipython3",
   "version": "3.7.4"
  },
  "toc": {
   "base_numbering": 1,
   "nav_menu": {},
   "number_sections": true,
   "sideBar": true,
   "skip_h1_title": false,
   "title_cell": "Table of Contents",
   "title_sidebar": "Contents",
   "toc_cell": false,
   "toc_position": {},
   "toc_section_display": true,
   "toc_window_display": false
  }
 },
 "nbformat": 4,
 "nbformat_minor": 2
}
