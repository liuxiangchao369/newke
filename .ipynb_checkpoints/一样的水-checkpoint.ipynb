{
 "cells": [
  {
   "cell_type": "code",
   "execution_count": 45,
   "metadata": {},
   "outputs": [],
   "source": [
    "n=4\n",
    "q=3\n",
    "a=[1,2,3,4]\n",
    "p=[2,2,4]"
   ]
  },
  {
   "cell_type": "code",
   "execution_count": 42,
   "metadata": {},
   "outputs": [],
   "source": [
    "a.sort()\n",
    "ans = [1000 for i in range(q)]"
   ]
  },
  {
   "cell_type": "code",
   "execution_count": 43,
   "metadata": {},
   "outputs": [
    {
     "data": {
      "text/plain": [
       "[1000, 1000, 1000]"
      ]
     },
     "execution_count": 43,
     "metadata": {},
     "output_type": "execute_result"
    }
   ],
   "source": [
    "ans\n"
   ]
  },
  {
   "cell_type": "code",
   "execution_count": 12,
   "metadata": {},
   "outputs": [],
   "source": [
    "def calc(a, num):\n",
    "    a.sort()\n",
    "    if num == 0:\n",
    "        return 0\n",
    "    res = 0\n",
    "\n",
    "    for i in range(num-1):\n",
    "        if a[i] == a[i+1]:\n",
    "            continue\n",
    "        else:\n",
    "            a[i] += 1\n",
    "            res = res+1+i\n",
    "\n",
    "    return res"
   ]
  },
  {
   "cell_type": "code",
   "execution_count": 13,
   "metadata": {},
   "outputs": [],
   "source": [
    "for i in range(q):\n",
    "    ans[i]=calc(a,p[i])"
   ]
  },
  {
   "cell_type": "code",
   "execution_count": 14,
   "metadata": {},
   "outputs": [
    {
     "data": {
      "text/plain": [
       "[1, 0, 5]"
      ]
     },
     "execution_count": 14,
     "metadata": {},
     "output_type": "execute_result"
    }
   ],
   "source": [
    "ans"
   ]
  },
  {
   "cell_type": "code",
   "execution_count": 46,
   "metadata": {},
   "outputs": [],
   "source": [
    "#\n",
    "#\n",
    "# @param n int整型 水桶的个数\n",
    "# @param q int整型 询问的次数\n",
    "# @param a int整型一维数组 n个水桶中初始水的体积\n",
    "# @param p int整型一维数组 每次询问的值\n",
    "# @return int整型一维数组\n",
    "#\n",
    "import copy\n",
    "\n",
    "\n",
    "class Solution:\n",
    "    def calc(a, start_index, num):\n",
    "        a.sort()\n",
    "        if num == 0:\n",
    "            return 0\n",
    "        res = 0\n",
    "\n",
    "        for i in range(start_index, num-1):\n",
    "            if a[i] == a[i+1]:\n",
    "                continue\n",
    "            else:\n",
    "                a[i] += 1\n",
    "                res = res+1+i-start_index\n",
    "\n",
    "        return res\n",
    "\n",
    "    def solve(self, n, q, a, p):\n",
    "        # write code here\n",
    "        a.sort()\n",
    "\n",
    "        ans = [10000000 for i in range(q)]\n",
    "        ans_min = copy.copy(ans)\n",
    "        sums = 100000000\n",
    "        sums_min = sums\n",
    "\n",
    "        for index in range(q):\n",
    "            for i in range(q):\n",
    "                ans[i] = Solution.calc(a, index, p[i])\n",
    "                sums += ans[i]\n",
    "\n",
    "            if sums < sums_min:\n",
    "                sums_min = sums\n",
    "                ans_min = copy.copy(ans)\n",
    "            else:\n",
    "                ans = copy.copy(ans_min)\n",
    "        return ans"
   ]
  },
  {
   "cell_type": "code",
   "execution_count": 47,
   "metadata": {},
   "outputs": [
    {
     "data": {
      "text/plain": [
       "[0, 0, 0]"
      ]
     },
     "execution_count": 47,
     "metadata": {},
     "output_type": "execute_result"
    }
   ],
   "source": [
    "s=Solution()\n",
    "s.solve(n,q,a,p)"
   ]
  },
  {
   "cell_type": "code",
   "execution_count": 37,
   "metadata": {},
   "outputs": [],
   "source": [
    "n=50\n",
    "q=10\n",
    "a=[278,125,679,818,337,683,245,67,922,43,310,505,254,951,378,733,373,643,170,632,711,766,256,620,570,51,494,907,388,126,580,823,485,693,969,931,209,455,533,414,318,777,862,102,742,257,550,706,492,968]\n",
    "p=[28,15,19,38,27,13,23,38,11,30]\n"
   ]
  },
  {
   "cell_type": "code",
   "execution_count": null,
   "metadata": {},
   "outputs": [],
   "source": []
  }
 ],
 "metadata": {
  "kernelspec": {
   "display_name": "Python 3",
   "language": "python",
   "name": "python3"
  },
  "language_info": {
   "codemirror_mode": {
    "name": "ipython",
    "version": 3
   },
   "file_extension": ".py",
   "mimetype": "text/x-python",
   "name": "python",
   "nbconvert_exporter": "python",
   "pygments_lexer": "ipython3",
   "version": "3.7.4"
  },
  "toc": {
   "base_numbering": 1,
   "nav_menu": {},
   "number_sections": true,
   "sideBar": true,
   "skip_h1_title": false,
   "title_cell": "Table of Contents",
   "title_sidebar": "Contents",
   "toc_cell": false,
   "toc_position": {},
   "toc_section_display": true,
   "toc_window_display": false
  }
 },
 "nbformat": 4,
 "nbformat_minor": 2
}
