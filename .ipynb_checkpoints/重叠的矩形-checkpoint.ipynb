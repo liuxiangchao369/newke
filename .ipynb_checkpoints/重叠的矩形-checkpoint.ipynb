{
 "cells": [
  {
   "cell_type": "code",
   "execution_count": null,
   "metadata": {},
   "outputs": [],
   "source": [
    "链接：https://www.nowcoder.com/questionTerminal/a22dd98b3d224f2bb89142f8acc2fe57?f=discussion\n",
    "来源：牛客网\n",
    "\n",
    "import sys\n",
    "lines = sys.stdin.readlines()\n",
    "n = int(lines[0])\n",
    "x1 = list(map(int,lines[1].split()))\n",
    "y1 = list(map(int,lines[2].split()))\n",
    "x2 = list(map(int,lines[3].split()))\n",
    "y2 = list(map(int,lines[4].split()))\n",
    "# 遍历所有点的组合（包含了矩形所有角以及交点），看一下有多少矩形包含它\n",
    "res = 1\n",
    "for x in x1+x2:\n",
    "    for y in y1+y2:\n",
    "        cnt = 0\n",
    "        for i in range(n):\n",
    "            if x > x1[i] and y > y1[i] and x <= x2[i] and y <= y2[i]:\n",
    "                cnt += 1\n",
    "        res = max(res,cnt)\n",
    "print(res)"
   ]
  }
 ],
 "metadata": {
  "kernelspec": {
   "display_name": "Python 3",
   "language": "python",
   "name": "python3"
  },
  "language_info": {
   "codemirror_mode": {
    "name": "ipython",
    "version": 3
   },
   "file_extension": ".py",
   "mimetype": "text/x-python",
   "name": "python",
   "nbconvert_exporter": "python",
   "pygments_lexer": "ipython3",
   "version": "3.7.4"
  },
  "toc": {
   "base_numbering": 1,
   "nav_menu": {},
   "number_sections": true,
   "sideBar": true,
   "skip_h1_title": false,
   "title_cell": "Table of Contents",
   "title_sidebar": "Contents",
   "toc_cell": false,
   "toc_position": {},
   "toc_section_display": true,
   "toc_window_display": false
  }
 },
 "nbformat": 4,
 "nbformat_minor": 2
}
