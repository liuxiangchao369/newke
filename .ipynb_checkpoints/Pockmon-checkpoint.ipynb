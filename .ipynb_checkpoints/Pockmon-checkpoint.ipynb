{
 "cells": [
  {
   "cell_type": "code",
   "execution_count": 131,
   "metadata": {},
   "outputs": [],
   "source": [
    "#\n",
    "#\n",
    "# @param HP long长整型 HP\n",
    "# @param ACK long长整型 ACK\n",
    "# @param HP2 long长整型 HP2\n",
    "# @param ACK2 long长整型 ACK2\n",
    "# @return long长整型\n",
    "#\n",
    "\n",
    "import math\n",
    "class Solution:\n",
    "    def Pokemonfight(self, HP, ACK, HP2, ACK2):\n",
    "        # write code here\n",
    "        if ACK >= HP2 or (ACK>=HP2/2 and ACK2<HP):\n",
    "            return -1\n",
    "        _full = HP2\n",
    "\n",
    "        _round = 0\n",
    "        _total_round = 0\n",
    "        while(HP > 0):\n",
    "            HP2-=ACK\n",
    "            _round = min(math.ceil(HP2/ACK)-1,math.ceil(HP/ACK2))\n",
    "#             if HP2<=ACK*(_round+1):\n",
    "#                 _round-=1\n",
    "            \n",
    "            HP2 -= ACK*(_round-1)\n",
    "            HP -= ACK2*_round\n",
    "            _total_round += _round\n",
    "            print(\"HP=\",HP,\"HP2=\",HP2,\"round=\",_round,\"total=\",_total_round)\n",
    "            if HP<=0:\n",
    "                break;\n",
    "            if HP<=ACK2 and HP2>ACK:\n",
    "                _total_round+=1\n",
    "                break\n",
    "            else:\n",
    "                HP2=_full\n",
    "                print(\"加血\")\n",
    "                _total_round+=1\n",
    "        return _total_round"
   ]
  },
  {
   "cell_type": "code",
   "execution_count": 134,
   "metadata": {},
   "outputs": [],
   "source": [
    "s=Solution()\n",
    "# HP,ACK,HP2,ACK2=8,3,8,1\n",
    "HP,ACK,HP2,ACK2=6,1,6,1"
   ]
  },
  {
   "cell_type": "code",
   "execution_count": 135,
   "metadata": {},
   "outputs": [
    {
     "name": "stdout",
     "output_type": "stream",
     "text": [
      "HP= 2 HP2= 2 round= 4 total= 4\n",
      "加血\n",
      "HP= 0 HP2= 4 round= 2 total= 7\n"
     ]
    },
    {
     "data": {
      "text/plain": [
       "7"
      ]
     },
     "execution_count": 135,
     "metadata": {},
     "output_type": "execute_result"
    }
   ],
   "source": [
    "s.Pokemonfight(HP,ACK,HP2,ACK2)"
   ]
  },
  {
   "cell_type": "code",
   "execution_count": null,
   "metadata": {},
   "outputs": [],
   "source": [
    "#\n",
    "# \n",
    "# @param HP long长整型 HP\n",
    "# @param ACK long长整型 ACK\n",
    "# @param HP2 long长整型 HP2\n",
    "# @param ACK2 long长整型 ACK2\n",
    "# @return long长整型\n",
    "#\n",
    "import math\n",
    "class Solution:\n",
    "    def Pokemonfight(self , HP , ACK , HP2 , ACK2 ):\n",
    "        # write code here\n",
    "        if ACK>=HP2/2:\n",
    "            return -1\n",
    "        manxue=HP2\n",
    "        \n",
    "        _round=math.ceil(HP/ACK2)\n",
    "        _extra=math.ceil(HP2/ACK)\n",
    "        \n",
    "        \n",
    "        return _round+2*_extra"
   ]
  },
  {
   "cell_type": "code",
   "execution_count": 15,
   "metadata": {},
   "outputs": [],
   "source": [
    "_round=math.ceil(HP/ACK2)\n",
    "_extra=math.ceil(HP2/ACK)"
   ]
  },
  {
   "cell_type": "code",
   "execution_count": 16,
   "metadata": {},
   "outputs": [
    {
     "data": {
      "text/plain": [
       "8"
      ]
     },
     "execution_count": 16,
     "metadata": {},
     "output_type": "execute_result"
    }
   ],
   "source": [
    "_round"
   ]
  },
  {
   "cell_type": "code",
   "execution_count": 17,
   "metadata": {},
   "outputs": [
    {
     "data": {
      "text/plain": [
       "3"
      ]
     },
     "execution_count": 17,
     "metadata": {},
     "output_type": "execute_result"
    }
   ],
   "source": [
    "_extra"
   ]
  },
  {
   "cell_type": "code",
   "execution_count": 100,
   "metadata": {},
   "outputs": [
    {
     "data": {
      "text/plain": [
       "2"
      ]
     },
     "execution_count": 100,
     "metadata": {},
     "output_type": "execute_result"
    }
   ],
   "source": [
    "min(math.ceil(HP2/ACK)-1,math.ceil(HP/ACK2))"
   ]
  },
  {
   "cell_type": "code",
   "execution_count": 101,
   "metadata": {},
   "outputs": [
    {
     "data": {
      "text/plain": [
       "2"
      ]
     },
     "execution_count": 101,
     "metadata": {},
     "output_type": "execute_result"
    }
   ],
   "source": [
    "math.ceil(HP2/ACK)-1"
   ]
  },
  {
   "cell_type": "code",
   "execution_count": 108,
   "metadata": {},
   "outputs": [
    {
     "ename": "KeyboardInterrupt",
     "evalue": "",
     "output_type": "error",
     "traceback": [
      "\u001b[1;31m---------------------------------------------------------------------------\u001b[0m",
      "\u001b[1;31mKeyboardInterrupt\u001b[0m                         Traceback (most recent call last)",
      "\u001b[1;32m<ipython-input-108-014124f81462>\u001b[0m in \u001b[0;36m<module>\u001b[1;34m\u001b[0m\n\u001b[0;32m      5\u001b[0m \u001b[1;32mwhile\u001b[0m\u001b[1;33m(\u001b[0m\u001b[0mHP\u001b[0m \u001b[1;33m>\u001b[0m \u001b[1;36m0\u001b[0m\u001b[1;33m)\u001b[0m\u001b[1;33m:\u001b[0m\u001b[1;33m\u001b[0m\u001b[1;33m\u001b[0m\u001b[0m\n\u001b[0;32m      6\u001b[0m \u001b[1;33m\u001b[0m\u001b[0m\n\u001b[1;32m----> 7\u001b[1;33m     \u001b[0m_round\u001b[0m \u001b[1;33m=\u001b[0m \u001b[0mmin\u001b[0m\u001b[1;33m(\u001b[0m\u001b[0mmath\u001b[0m\u001b[1;33m.\u001b[0m\u001b[0mceil\u001b[0m\u001b[1;33m(\u001b[0m\u001b[0mHP2\u001b[0m\u001b[1;33m/\u001b[0m\u001b[0mACK\u001b[0m\u001b[1;33m)\u001b[0m\u001b[1;33m-\u001b[0m\u001b[1;36m2\u001b[0m\u001b[1;33m,\u001b[0m \u001b[0mmath\u001b[0m\u001b[1;33m.\u001b[0m\u001b[0mceil\u001b[0m\u001b[1;33m(\u001b[0m\u001b[0mHP\u001b[0m\u001b[1;33m/\u001b[0m\u001b[0mACK2\u001b[0m\u001b[1;33m)\u001b[0m\u001b[1;33m)\u001b[0m\u001b[1;33m\u001b[0m\u001b[1;33m\u001b[0m\u001b[0m\n\u001b[0m\u001b[0;32m      8\u001b[0m \u001b[1;33m\u001b[0m\u001b[0m\n\u001b[0;32m      9\u001b[0m     \u001b[0mHP2\u001b[0m \u001b[1;33m-=\u001b[0m \u001b[0mACK\u001b[0m\u001b[1;33m*\u001b[0m\u001b[0m_round\u001b[0m\u001b[1;33m\u001b[0m\u001b[1;33m\u001b[0m\u001b[0m\n",
      "\u001b[1;31mKeyboardInterrupt\u001b[0m: "
     ]
    }
   ],
   "source": [
    "_full = HP2\n",
    "\n",
    "_round = 0\n",
    "_total_round = 0\n",
    "while(HP > 0):\n",
    "\n",
    "    _round = min(math.ceil(HP2/ACK)-2, math.ceil(HP/ACK2))\n",
    "    \n",
    "    HP2 -= ACK*_round\n",
    "    HP -= ACK2*_round\n",
    "    _total_round += _round\n",
    "#             print(\"HP=\",HP,\"HP2=\",HP2,\"round\",_round)\n",
    "    if HP <= 0:\n",
    "        break\n",
    "    if HP <= ACK2 and HP2 > ACK:\n",
    "        _total_round += 1\n",
    "        break\n",
    "    else:\n",
    "        HP2 = _full-ACK\n",
    "        _total_round += 1"
   ]
  },
  {
   "cell_type": "code",
   "execution_count": null,
   "metadata": {},
   "outputs": [],
   "source": [
    "_total_round"
   ]
  },
  {
   "cell_type": "code",
   "execution_count": null,
   "metadata": {},
   "outputs": [],
   "source": []
  }
 ],
 "metadata": {
  "kernelspec": {
   "display_name": "Python 3",
   "language": "python",
   "name": "python3"
  },
  "language_info": {
   "codemirror_mode": {
    "name": "ipython",
    "version": 3
   },
   "file_extension": ".py",
   "mimetype": "text/x-python",
   "name": "python",
   "nbconvert_exporter": "python",
   "pygments_lexer": "ipython3",
   "version": "3.7.4"
  },
  "toc": {
   "base_numbering": 1,
   "nav_menu": {},
   "number_sections": true,
   "sideBar": true,
   "skip_h1_title": false,
   "title_cell": "Table of Contents",
   "title_sidebar": "Contents",
   "toc_cell": false,
   "toc_position": {},
   "toc_section_display": true,
   "toc_window_display": false
  }
 },
 "nbformat": 4,
 "nbformat_minor": 2
}
